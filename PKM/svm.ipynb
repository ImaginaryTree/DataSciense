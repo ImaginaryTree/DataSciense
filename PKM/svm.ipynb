{
 "cells": [
  {
   "cell_type": "code",
   "execution_count": 24,
   "id": "8aeee37f-7d41-48a9-99a7-1351bb9bbe2b",
   "metadata": {},
   "outputs": [],
   "source": [
    "import pandas as pd\n",
    "from sklearn.svm import SVC\n",
    "from sklearn.metrics import classification_report, confusion_matrix\n",
    "from sklearn import metrics\n",
    "from sklearn.ensemble import RandomForestRegressor\n",
    "import matplotlib.pyplot as plt\n",
    "import numpy as np"
   ]
  },
  {
   "cell_type": "code",
   "execution_count": 5,
   "id": "b345aad4-8eb6-486f-a047-4a4bd5e41a21",
   "metadata": {},
   "outputs": [],
   "source": [
    "data_train = pd.read_csv(\"tes/train.csv\")\n",
    "data_test = pd.read_csv(\"tes/test.csv\")"
   ]
  },
  {
   "cell_type": "code",
   "execution_count": 6,
   "id": "7d938b05-f5f2-42d9-b949-2950bb82d0f0",
   "metadata": {},
   "outputs": [
    {
     "data": {
      "text/html": [
       "<div>\n",
       "<style scoped>\n",
       "    .dataframe tbody tr th:only-of-type {\n",
       "        vertical-align: middle;\n",
       "    }\n",
       "\n",
       "    .dataframe tbody tr th {\n",
       "        vertical-align: top;\n",
       "    }\n",
       "\n",
       "    .dataframe thead th {\n",
       "        text-align: right;\n",
       "    }\n",
       "</style>\n",
       "<table border=\"1\" class=\"dataframe\">\n",
       "  <thead>\n",
       "    <tr style=\"text-align: right;\">\n",
       "      <th></th>\n",
       "      <th>contrast</th>\n",
       "      <th>energy</th>\n",
       "      <th>homogeneity</th>\n",
       "      <th>correlation</th>\n",
       "      <th>dissimilarity</th>\n",
       "      <th>ASM</th>\n",
       "      <th>Entrophy</th>\n",
       "    </tr>\n",
       "  </thead>\n",
       "  <tbody>\n",
       "    <tr>\n",
       "      <th>0</th>\n",
       "      <td>512.826000</td>\n",
       "      <td>0.014432</td>\n",
       "      <td>0.080614</td>\n",
       "      <td>0.690566</td>\n",
       "      <td>15.900818</td>\n",
       "      <td>0.000208</td>\n",
       "      <td>2.849807</td>\n",
       "    </tr>\n",
       "    <tr>\n",
       "      <th>1</th>\n",
       "      <td>467.057694</td>\n",
       "      <td>0.014871</td>\n",
       "      <td>0.087467</td>\n",
       "      <td>0.715532</td>\n",
       "      <td>15.126038</td>\n",
       "      <td>0.000221</td>\n",
       "      <td>2.800344</td>\n",
       "    </tr>\n",
       "    <tr>\n",
       "      <th>2</th>\n",
       "      <td>524.294265</td>\n",
       "      <td>0.014195</td>\n",
       "      <td>0.081258</td>\n",
       "      <td>0.699366</td>\n",
       "      <td>16.082849</td>\n",
       "      <td>0.000202</td>\n",
       "      <td>2.892728</td>\n",
       "    </tr>\n",
       "    <tr>\n",
       "      <th>3</th>\n",
       "      <td>472.673600</td>\n",
       "      <td>0.014852</td>\n",
       "      <td>0.087986</td>\n",
       "      <td>0.714153</td>\n",
       "      <td>15.199941</td>\n",
       "      <td>0.000221</td>\n",
       "      <td>2.810676</td>\n",
       "    </tr>\n",
       "    <tr>\n",
       "      <th>4</th>\n",
       "      <td>510.383251</td>\n",
       "      <td>0.014338</td>\n",
       "      <td>0.082743</td>\n",
       "      <td>0.703107</td>\n",
       "      <td>15.866788</td>\n",
       "      <td>0.000206</td>\n",
       "      <td>2.869656</td>\n",
       "    </tr>\n",
       "    <tr>\n",
       "      <th>...</th>\n",
       "      <td>...</td>\n",
       "      <td>...</td>\n",
       "      <td>...</td>\n",
       "      <td>...</td>\n",
       "      <td>...</td>\n",
       "      <td>...</td>\n",
       "      <td>...</td>\n",
       "    </tr>\n",
       "    <tr>\n",
       "      <th>515</th>\n",
       "      <td>95.774695</td>\n",
       "      <td>0.023437</td>\n",
       "      <td>0.153386</td>\n",
       "      <td>0.922931</td>\n",
       "      <td>7.159296</td>\n",
       "      <td>0.000549</td>\n",
       "      <td>1.589807</td>\n",
       "    </tr>\n",
       "    <tr>\n",
       "      <th>516</th>\n",
       "      <td>93.125768</td>\n",
       "      <td>0.023999</td>\n",
       "      <td>0.157255</td>\n",
       "      <td>0.928555</td>\n",
       "      <td>7.018488</td>\n",
       "      <td>0.000576</td>\n",
       "      <td>1.576428</td>\n",
       "    </tr>\n",
       "    <tr>\n",
       "      <th>517</th>\n",
       "      <td>102.424796</td>\n",
       "      <td>0.022940</td>\n",
       "      <td>0.151844</td>\n",
       "      <td>0.928503</td>\n",
       "      <td>7.409098</td>\n",
       "      <td>0.000526</td>\n",
       "      <td>1.624984</td>\n",
       "    </tr>\n",
       "    <tr>\n",
       "      <th>518</th>\n",
       "      <td>106.674575</td>\n",
       "      <td>0.022399</td>\n",
       "      <td>0.148374</td>\n",
       "      <td>0.930548</td>\n",
       "      <td>7.589500</td>\n",
       "      <td>0.000502</td>\n",
       "      <td>1.658353</td>\n",
       "    </tr>\n",
       "    <tr>\n",
       "      <th>519</th>\n",
       "      <td>116.393335</td>\n",
       "      <td>0.020435</td>\n",
       "      <td>0.130034</td>\n",
       "      <td>0.899014</td>\n",
       "      <td>8.113524</td>\n",
       "      <td>0.000424</td>\n",
       "      <td>1.667371</td>\n",
       "    </tr>\n",
       "  </tbody>\n",
       "</table>\n",
       "<p>520 rows × 7 columns</p>\n",
       "</div>"
      ],
      "text/plain": [
       "       contrast    energy  homogeneity  correlation  dissimilarity       ASM  \\\n",
       "0    512.826000  0.014432     0.080614     0.690566      15.900818  0.000208   \n",
       "1    467.057694  0.014871     0.087467     0.715532      15.126038  0.000221   \n",
       "2    524.294265  0.014195     0.081258     0.699366      16.082849  0.000202   \n",
       "3    472.673600  0.014852     0.087986     0.714153      15.199941  0.000221   \n",
       "4    510.383251  0.014338     0.082743     0.703107      15.866788  0.000206   \n",
       "..          ...       ...          ...          ...            ...       ...   \n",
       "515   95.774695  0.023437     0.153386     0.922931       7.159296  0.000549   \n",
       "516   93.125768  0.023999     0.157255     0.928555       7.018488  0.000576   \n",
       "517  102.424796  0.022940     0.151844     0.928503       7.409098  0.000526   \n",
       "518  106.674575  0.022399     0.148374     0.930548       7.589500  0.000502   \n",
       "519  116.393335  0.020435     0.130034     0.899014       8.113524  0.000424   \n",
       "\n",
       "     Entrophy  \n",
       "0    2.849807  \n",
       "1    2.800344  \n",
       "2    2.892728  \n",
       "3    2.810676  \n",
       "4    2.869656  \n",
       "..        ...  \n",
       "515  1.589807  \n",
       "516  1.576428  \n",
       "517  1.624984  \n",
       "518  1.658353  \n",
       "519  1.667371  \n",
       "\n",
       "[520 rows x 7 columns]"
      ]
     },
     "metadata": {},
     "output_type": "display_data"
    },
    {
     "data": {
      "text/plain": [
       "0      0\n",
       "1      0\n",
       "2      0\n",
       "3      0\n",
       "4      0\n",
       "      ..\n",
       "515    1\n",
       "516    1\n",
       "517    1\n",
       "518    1\n",
       "519    1\n",
       "Name: class, Length: 520, dtype: int64"
      ]
     },
     "metadata": {},
     "output_type": "display_data"
    }
   ],
   "source": [
    "X = data_train.drop(('class'), axis=1)\n",
    "Y = data_train['class']\n",
    "\n",
    "display(X,Y)"
   ]
  },
  {
   "cell_type": "code",
   "execution_count": 7,
   "id": "6d3e8841-290c-437c-a534-5a19cc5d7124",
   "metadata": {},
   "outputs": [
    {
     "data": {
      "text/html": [
       "<div>\n",
       "<style scoped>\n",
       "    .dataframe tbody tr th:only-of-type {\n",
       "        vertical-align: middle;\n",
       "    }\n",
       "\n",
       "    .dataframe tbody tr th {\n",
       "        vertical-align: top;\n",
       "    }\n",
       "\n",
       "    .dataframe thead th {\n",
       "        text-align: right;\n",
       "    }\n",
       "</style>\n",
       "<table border=\"1\" class=\"dataframe\">\n",
       "  <thead>\n",
       "    <tr style=\"text-align: right;\">\n",
       "      <th></th>\n",
       "      <th>contrast</th>\n",
       "      <th>energy</th>\n",
       "      <th>homogeneity</th>\n",
       "      <th>correlation</th>\n",
       "      <th>dissimilarity</th>\n",
       "      <th>ASM</th>\n",
       "      <th>Entrophy</th>\n",
       "    </tr>\n",
       "  </thead>\n",
       "  <tbody>\n",
       "    <tr>\n",
       "      <th>0</th>\n",
       "      <td>50.466034</td>\n",
       "      <td>0.029632</td>\n",
       "      <td>0.287381</td>\n",
       "      <td>0.993976</td>\n",
       "      <td>4.360203</td>\n",
       "      <td>0.000878</td>\n",
       "      <td>1.940614</td>\n",
       "    </tr>\n",
       "    <tr>\n",
       "      <th>1</th>\n",
       "      <td>52.807072</td>\n",
       "      <td>0.029275</td>\n",
       "      <td>0.278248</td>\n",
       "      <td>0.993711</td>\n",
       "      <td>4.486965</td>\n",
       "      <td>0.000857</td>\n",
       "      <td>1.947881</td>\n",
       "    </tr>\n",
       "    <tr>\n",
       "      <th>2</th>\n",
       "      <td>51.315414</td>\n",
       "      <td>0.029110</td>\n",
       "      <td>0.274584</td>\n",
       "      <td>0.993960</td>\n",
       "      <td>4.482083</td>\n",
       "      <td>0.000847</td>\n",
       "      <td>1.948642</td>\n",
       "    </tr>\n",
       "    <tr>\n",
       "      <th>3</th>\n",
       "      <td>58.360833</td>\n",
       "      <td>0.027398</td>\n",
       "      <td>0.255893</td>\n",
       "      <td>0.993229</td>\n",
       "      <td>4.833767</td>\n",
       "      <td>0.000751</td>\n",
       "      <td>2.026122</td>\n",
       "    </tr>\n",
       "    <tr>\n",
       "      <th>4</th>\n",
       "      <td>56.480639</td>\n",
       "      <td>0.027550</td>\n",
       "      <td>0.257993</td>\n",
       "      <td>0.993517</td>\n",
       "      <td>4.765693</td>\n",
       "      <td>0.000759</td>\n",
       "      <td>2.011209</td>\n",
       "    </tr>\n",
       "    <tr>\n",
       "      <th>...</th>\n",
       "      <td>...</td>\n",
       "      <td>...</td>\n",
       "      <td>...</td>\n",
       "      <td>...</td>\n",
       "      <td>...</td>\n",
       "      <td>...</td>\n",
       "      <td>...</td>\n",
       "    </tr>\n",
       "    <tr>\n",
       "      <th>519</th>\n",
       "      <td>40.157941</td>\n",
       "      <td>0.030460</td>\n",
       "      <td>0.341064</td>\n",
       "      <td>0.987009</td>\n",
       "      <td>3.800035</td>\n",
       "      <td>0.000928</td>\n",
       "      <td>1.456180</td>\n",
       "    </tr>\n",
       "    <tr>\n",
       "      <th>520</th>\n",
       "      <td>44.331790</td>\n",
       "      <td>0.029595</td>\n",
       "      <td>0.329979</td>\n",
       "      <td>0.985428</td>\n",
       "      <td>4.016068</td>\n",
       "      <td>0.000876</td>\n",
       "      <td>1.472904</td>\n",
       "    </tr>\n",
       "    <tr>\n",
       "      <th>521</th>\n",
       "      <td>43.801181</td>\n",
       "      <td>0.029322</td>\n",
       "      <td>0.328052</td>\n",
       "      <td>0.985149</td>\n",
       "      <td>4.019965</td>\n",
       "      <td>0.000860</td>\n",
       "      <td>1.467516</td>\n",
       "    </tr>\n",
       "    <tr>\n",
       "      <th>522</th>\n",
       "      <td>28.496981</td>\n",
       "      <td>0.032586</td>\n",
       "      <td>0.370602</td>\n",
       "      <td>0.989517</td>\n",
       "      <td>3.268920</td>\n",
       "      <td>0.001062</td>\n",
       "      <td>1.266048</td>\n",
       "    </tr>\n",
       "    <tr>\n",
       "      <th>523</th>\n",
       "      <td>21.286288</td>\n",
       "      <td>0.048884</td>\n",
       "      <td>0.422683</td>\n",
       "      <td>0.987144</td>\n",
       "      <td>2.576485</td>\n",
       "      <td>0.002521</td>\n",
       "      <td>1.179434</td>\n",
       "    </tr>\n",
       "  </tbody>\n",
       "</table>\n",
       "<p>524 rows × 7 columns</p>\n",
       "</div>"
      ],
      "text/plain": [
       "      contrast    energy  homogeneity  correlation  dissimilarity       ASM  \\\n",
       "0    50.466034  0.029632     0.287381     0.993976       4.360203  0.000878   \n",
       "1    52.807072  0.029275     0.278248     0.993711       4.486965  0.000857   \n",
       "2    51.315414  0.029110     0.274584     0.993960       4.482083  0.000847   \n",
       "3    58.360833  0.027398     0.255893     0.993229       4.833767  0.000751   \n",
       "4    56.480639  0.027550     0.257993     0.993517       4.765693  0.000759   \n",
       "..         ...       ...          ...          ...            ...       ...   \n",
       "519  40.157941  0.030460     0.341064     0.987009       3.800035  0.000928   \n",
       "520  44.331790  0.029595     0.329979     0.985428       4.016068  0.000876   \n",
       "521  43.801181  0.029322     0.328052     0.985149       4.019965  0.000860   \n",
       "522  28.496981  0.032586     0.370602     0.989517       3.268920  0.001062   \n",
       "523  21.286288  0.048884     0.422683     0.987144       2.576485  0.002521   \n",
       "\n",
       "     Entrophy  \n",
       "0    1.940614  \n",
       "1    1.947881  \n",
       "2    1.948642  \n",
       "3    2.026122  \n",
       "4    2.011209  \n",
       "..        ...  \n",
       "519  1.456180  \n",
       "520  1.472904  \n",
       "521  1.467516  \n",
       "522  1.266048  \n",
       "523  1.179434  \n",
       "\n",
       "[524 rows x 7 columns]"
      ]
     },
     "metadata": {},
     "output_type": "display_data"
    },
    {
     "data": {
      "text/plain": [
       "0      0\n",
       "1      0\n",
       "2      0\n",
       "3      0\n",
       "4      0\n",
       "      ..\n",
       "519    1\n",
       "520    1\n",
       "521    1\n",
       "522    1\n",
       "523    1\n",
       "Name: class, Length: 524, dtype: int64"
      ]
     },
     "metadata": {},
     "output_type": "display_data"
    }
   ],
   "source": [
    "I = data_test.drop('class', axis=1)\n",
    "J = data_test['class']\n",
    "\n",
    "display(I,J)"
   ]
  },
  {
   "cell_type": "code",
   "execution_count": 8,
   "id": "7071de93-75d3-4352-b736-94d46644dc96",
   "metadata": {},
   "outputs": [],
   "source": [
    "svclassifier = SVC(kernel='sigmoid')"
   ]
  },
  {
   "cell_type": "code",
   "execution_count": 9,
   "id": "1b2d0ab4-135f-430d-bbfd-f7a7bb404250",
   "metadata": {},
   "outputs": [
    {
     "data": {
      "text/plain": [
       "SVC(kernel='sigmoid')"
      ]
     },
     "execution_count": 9,
     "metadata": {},
     "output_type": "execute_result"
    }
   ],
   "source": [
    "svclassifier.fit(X, Y)"
   ]
  },
  {
   "cell_type": "code",
   "execution_count": 10,
   "id": "3236368c-6b7d-4426-87c5-f1e9bc748467",
   "metadata": {},
   "outputs": [],
   "source": [
    "y_pred = svclassifier.predict(I)"
   ]
  },
  {
   "cell_type": "code",
   "execution_count": 11,
   "id": "1c84922f-20db-4156-8d91-35f7da74e0e6",
   "metadata": {},
   "outputs": [
    {
     "name": "stdout",
     "output_type": "stream",
     "text": [
      "[[104 160]\n",
      " [ 16 244]]\n",
      "              precision    recall  f1-score   support\n",
      "\n",
      "           0       0.87      0.39      0.54       264\n",
      "           1       0.60      0.94      0.73       260\n",
      "\n",
      "    accuracy                           0.66       524\n",
      "   macro avg       0.74      0.67      0.64       524\n",
      "weighted avg       0.74      0.66      0.64       524\n",
      "\n",
      "Accuracy: 0.6641221374045801\n"
     ]
    }
   ],
   "source": [
    "print(confusion_matrix(J,y_pred))\n",
    "print(classification_report(J,y_pred))\n",
    "print(\"Accuracy:\",metrics.accuracy_score(J, y_pred))"
   ]
  },
  {
   "cell_type": "markdown",
   "id": "4b363db7-24f0-46e0-abe0-131a2109a0b1",
   "metadata": {},
   "source": [
    "# Random Forrest"
   ]
  },
  {
   "cell_type": "code",
   "execution_count": 12,
   "id": "52a27e49-d778-45d8-b33a-64cb73f0a59a",
   "metadata": {},
   "outputs": [],
   "source": [
    "regressor = RandomForestRegressor(n_estimators = 100, random_state = 0)"
   ]
  },
  {
   "cell_type": "code",
   "execution_count": 14,
   "id": "3a16ba7c-b031-4966-81ea-83fa8b83f867",
   "metadata": {},
   "outputs": [
    {
     "data": {
      "text/plain": [
       "RandomForestRegressor(random_state=0)"
      ]
     },
     "execution_count": 14,
     "metadata": {},
     "output_type": "execute_result"
    }
   ],
   "source": [
    "regressor.fit(X, Y) "
   ]
  },
  {
   "cell_type": "code",
   "execution_count": 29,
   "id": "4ef663f9-2909-4294-8c73-afcb910a4601",
   "metadata": {},
   "outputs": [
    {
     "name": "stdout",
     "output_type": "stream",
     "text": [
      "ASM homogeneity\n"
     ]
    }
   ],
   "source": [
    "Y_pred_RF = regressor.predict(I)\n",
    "print(min(X),max(X))"
   ]
  },
  {
   "cell_type": "code",
   "execution_count": 28,
   "id": "747d45c8-89c5-4f9b-9f3a-dd1c3b1ad2c9",
   "metadata": {},
   "outputs": [
    {
     "ename": "TypeError",
     "evalue": "unsupported operand type(s) for -: 'str' and 'str'",
     "output_type": "error",
     "traceback": [
      "\u001b[1;31m---------------------------------------------------------------------------\u001b[0m",
      "\u001b[1;31mTypeError\u001b[0m                                 Traceback (most recent call last)",
      "\u001b[1;32m~\\AppData\\Local\\Temp/ipykernel_8948/2254433177.py\u001b[0m in \u001b[0;36m<module>\u001b[1;34m\u001b[0m\n\u001b[1;32m----> 1\u001b[1;33m \u001b[0mX_grid\u001b[0m \u001b[1;33m=\u001b[0m \u001b[0mnp\u001b[0m\u001b[1;33m.\u001b[0m\u001b[0marange\u001b[0m\u001b[1;33m(\u001b[0m\u001b[0mmin\u001b[0m\u001b[1;33m(\u001b[0m\u001b[0mX\u001b[0m\u001b[1;33m)\u001b[0m\u001b[1;33m,\u001b[0m \u001b[0mmax\u001b[0m\u001b[1;33m(\u001b[0m\u001b[0mX\u001b[0m\u001b[1;33m)\u001b[0m\u001b[1;33m,\u001b[0m \u001b[1;36m0.01\u001b[0m\u001b[1;33m)\u001b[0m\u001b[1;33m\u001b[0m\u001b[1;33m\u001b[0m\u001b[0m\n\u001b[0m\u001b[0;32m      2\u001b[0m \u001b[0mX_grid\u001b[0m \u001b[1;33m=\u001b[0m \u001b[0mX_grid\u001b[0m\u001b[1;33m.\u001b[0m\u001b[0mreshape\u001b[0m\u001b[1;33m(\u001b[0m\u001b[1;33m(\u001b[0m\u001b[0mlen\u001b[0m\u001b[1;33m(\u001b[0m\u001b[0mX_grid\u001b[0m\u001b[1;33m)\u001b[0m\u001b[1;33m,\u001b[0m \u001b[1;36m1\u001b[0m\u001b[1;33m)\u001b[0m\u001b[1;33m)\u001b[0m\u001b[1;33m\u001b[0m\u001b[1;33m\u001b[0m\u001b[0m\n\u001b[0;32m      3\u001b[0m \u001b[0mplt\u001b[0m\u001b[1;33m.\u001b[0m\u001b[0mplot\u001b[0m\u001b[1;33m(\u001b[0m\u001b[0mX_grid\u001b[0m\u001b[1;33m,\u001b[0m \u001b[0mregressor\u001b[0m\u001b[1;33m.\u001b[0m\u001b[0mpredict\u001b[0m\u001b[1;33m(\u001b[0m\u001b[0mX_grid\u001b[0m\u001b[1;33m)\u001b[0m\u001b[1;33m,\u001b[0m\u001b[0mcolor\u001b[0m \u001b[1;33m=\u001b[0m \u001b[1;34m'green'\u001b[0m\u001b[1;33m)\u001b[0m\u001b[1;33m\u001b[0m\u001b[1;33m\u001b[0m\u001b[0m\n\u001b[0;32m      4\u001b[0m \u001b[0mplt\u001b[0m\u001b[1;33m.\u001b[0m\u001b[0mtitle\u001b[0m\u001b[1;33m(\u001b[0m\u001b[1;34m'Random Forest Regression'\u001b[0m\u001b[1;33m)\u001b[0m\u001b[1;33m\u001b[0m\u001b[1;33m\u001b[0m\u001b[0m\n\u001b[0;32m      5\u001b[0m \u001b[0mplt\u001b[0m\u001b[1;33m.\u001b[0m\u001b[0mxlabel\u001b[0m\u001b[1;33m(\u001b[0m\u001b[1;34m'Position level'\u001b[0m\u001b[1;33m)\u001b[0m\u001b[1;33m\u001b[0m\u001b[1;33m\u001b[0m\u001b[0m\n",
      "\u001b[1;31mTypeError\u001b[0m: unsupported operand type(s) for -: 'str' and 'str'"
     ]
    }
   ],
   "source": [
    "X_grid = np.arange(min(X), max(X), 0.01)\n",
    "X_grid = X_grid.reshape((len(X_grid), 1))\n",
    "plt.plot(X_grid, regressor.predict(X_grid),color = 'green')\n",
    "plt.title('Random Forest Regression')\n",
    "plt.xlabel('Position level')\n",
    "plt.ylabel('Salary')\n",
    "plt.show()"
   ]
  },
  {
   "cell_type": "code",
   "execution_count": null,
   "id": "976a994e-fe30-4ef2-811f-0e4682ba7618",
   "metadata": {},
   "outputs": [],
   "source": []
  },
  {
   "cell_type": "code",
   "execution_count": null,
   "id": "51a10d01-e10f-4877-a464-07b5b46b1776",
   "metadata": {},
   "outputs": [],
   "source": []
  }
 ],
 "metadata": {
  "kernelspec": {
   "display_name": "Python 3 (ipykernel)",
   "language": "python",
   "name": "python3"
  },
  "language_info": {
   "codemirror_mode": {
    "name": "ipython",
    "version": 3
   },
   "file_extension": ".py",
   "mimetype": "text/x-python",
   "name": "python",
   "nbconvert_exporter": "python",
   "pygments_lexer": "ipython3",
   "version": "3.9.0"
  }
 },
 "nbformat": 4,
 "nbformat_minor": 5
}
