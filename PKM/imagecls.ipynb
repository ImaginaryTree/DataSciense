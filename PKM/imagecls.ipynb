{
 "cells": [
  {
   "cell_type": "code",
   "execution_count": 1,
   "id": "d31ae402-0dd6-4cf7-b288-5495c8de868d",
   "metadata": {},
   "outputs": [],
   "source": [
    "import pandas as pd\n",
    "import math\n",
    "from sklearn.metrics import classification_report, confusion_matrix\n",
    "from sklearn import metrics\n",
    "import skimage.io\n",
    "import skimage.feature\n",
    "import matplotlib.pyplot as plt\n",
    "#import numpy as np\n",
    "from sklearn.ensemble import ExtraTreesClassifier\n",
    "import cv2 as cv"
   ]
  },
  {
   "cell_type": "code",
   "execution_count": 2,
   "id": "f71eec97-c79e-421b-9a75-434ac77c8cfc",
   "metadata": {},
   "outputs": [],
   "source": [
    "def classifier(x_train,y_train,x_test):\n",
    "    ExtraTreesCls = ExtraTreesClassifier().fit(x_train, y_train)\n",
    "    y_pred = ExtraTreesCls.predict(x_test)\n",
    "    \"\"\"\n",
    "    if y_pred[len(y_pred-1)-1] == 1:\n",
    "        print(\"trotoar\") \n",
    "    elif y_pred[len(y_pred)-1] == 0:\n",
    "        print(\"aspal\")\n",
    "    \"\"\""
   ]
  },
  {
   "cell_type": "code",
   "execution_count": 8,
   "id": "55dae3fd-4346-4ebf-bc55-ac8751b7d75b",
   "metadata": {},
   "outputs": [],
   "source": [
    "data_train = pd.read_csv(\"tes/new/train2.csv\")\n",
    "data_test = pd.read_csv(\"tes/new/test2.csv\")\n",
    "X = data_train.drop(('class'), axis=1)\n",
    "Y = data_train['class']\n",
    "x_train = X.values.tolist()\n",
    "y_train = Y.values.tolist()\n",
    "cam = cv.VideoCapture('../pkm/Video/20062022/dataset1.mp4')\n",
    "xx = 40\n",
    "yy = 400\n",
    "data = []\n",
    "number=0\n",
    "while True:\n",
    "    isTrue, frame = cam.read()\n",
    "    resize = cv.resize(frame, (640,480))\n",
    "    gray = cv.cvtColor(resize, cv.COLOR_BGR2GRAY)\n",
    "    im = gray[yy:yy + 150, xx:xx + 400]\n",
    "    g = skimage.feature.greycomatrix(im, [1], [0], 256, symmetric=True, normed=True)\n",
    "    a1 = skimage.feature.greycoprops(g, 'contrast')[0][0]\n",
    "    a2 = skimage.feature.greycoprops(g, 'energy')[0][0]\n",
    "    a3 = skimage.feature.greycoprops(g, 'homogeneity')[0][0]\n",
    "    a4 = skimage.feature.greycoprops(g, 'correlation')[0][0]\n",
    "    a5 = skimage.feature.greycoprops(g, 'dissimilarity')[0][0]\n",
    "    a6 = skimage.feature.greycoprops(g, 'ASM')[0][0]\n",
    "    a7 = skimage.measure.shannon_entropy(g)\n",
    "    temp = [a1, a2, a3, a4, a5, a6, a7];\n",
    "    data.append(temp)\n",
    "    classifier(x_train,y_train, data)\n",
    "    cv.imshow('Unfitured video', frame)\n",
    "    #print(a1)\n",
    "    if cv.waitKey(1) == ord('q'):\n",
    "        break\n",
    "        \n",
    "#release the recording device\n",
    "cam.release()\n",
    "#destroy the window\n",
    "cv.destroyAllWindows()"
   ]
  },
  {
   "cell_type": "code",
   "execution_count": 12,
   "id": "9d25e6c0-aa75-4ee0-9256-eca5ec532867",
   "metadata": {},
   "outputs": [
    {
     "name": "stdout",
     "output_type": "stream",
     "text": [
      "0 [42.424436090225555, 0.03660610727861753, 0.25907182960903274, 0.9592936156024144, 4.439473684210526, 0.0013400070900936552, 0.6537223212338131]\n"
     ]
    },
    {
     "ename": "TypeError",
     "evalue": "int() argument must be a string, a bytes-like object or a number, not 'list'",
     "output_type": "error",
     "traceback": [
      "\u001b[1;31m---------------------------------------------------------------------------\u001b[0m",
      "\u001b[1;31mTypeError\u001b[0m                                 Traceback (most recent call last)",
      "\u001b[1;32m~\\AppData\\Local\\Temp/ipykernel_2060/4236083876.py\u001b[0m in \u001b[0;36m<module>\u001b[1;34m\u001b[0m\n\u001b[0;32m      2\u001b[0m     \u001b[0mprint\u001b[0m\u001b[1;33m(\u001b[0m\u001b[0midx\u001b[0m\u001b[1;33m,\u001b[0m\u001b[0mx\u001b[0m\u001b[1;33m)\u001b[0m\u001b[1;33m\u001b[0m\u001b[1;33m\u001b[0m\u001b[0m\n\u001b[0;32m      3\u001b[0m     \u001b[0mypoints\u001b[0m\u001b[1;33m=\u001b[0m\u001b[1;33m[\u001b[0m\u001b[1;33m]\u001b[0m\u001b[1;33m\u001b[0m\u001b[1;33m\u001b[0m\u001b[0m\n\u001b[1;32m----> 4\u001b[1;33m     \u001b[0mypoints\u001b[0m\u001b[1;33m[\u001b[0m\u001b[0mint\u001b[0m\u001b[1;33m(\u001b[0m\u001b[0mx\u001b[0m\u001b[1;33m)\u001b[0m\u001b[1;33m]\u001b[0m\u001b[1;33m=\u001b[0m\u001b[0midx\u001b[0m\u001b[1;33m[\u001b[0m\u001b[0mint\u001b[0m\u001b[1;33m(\u001b[0m\u001b[0mx\u001b[0m\u001b[1;33m)\u001b[0m\u001b[1;33m]\u001b[0m\u001b[1;33m\u001b[0m\u001b[1;33m\u001b[0m\u001b[0m\n\u001b[0m\u001b[0;32m      5\u001b[0m \u001b[0mplt\u001b[0m\u001b[1;33m.\u001b[0m\u001b[0mplot\u001b[0m\u001b[1;33m(\u001b[0m\u001b[0mypoints\u001b[0m\u001b[1;33m)\u001b[0m\u001b[1;33m\u001b[0m\u001b[1;33m\u001b[0m\u001b[0m\n\u001b[0;32m      6\u001b[0m \u001b[0mplt\u001b[0m\u001b[1;33m.\u001b[0m\u001b[0mshow\u001b[0m\u001b[1;33m(\u001b[0m\u001b[1;33m)\u001b[0m\u001b[1;33m\u001b[0m\u001b[1;33m\u001b[0m\u001b[0m\n",
      "\u001b[1;31mTypeError\u001b[0m: int() argument must be a string, a bytes-like object or a number, not 'list'"
     ]
    }
   ],
   "source": [
    "for idx,x in enumerate(data):\n",
    "    print(idx,x)\n",
    "    ypoints=[]\n",
    "    ypoints[int(x)]=idx[int(x)]\n",
    "plt.plot(ypoints)\n",
    "plt.show()"
   ]
  },
  {
   "cell_type": "code",
   "execution_count": null,
   "id": "9ab10dd3-d6e5-47e6-a8b3-92167fd16525",
   "metadata": {},
   "outputs": [],
   "source": []
  }
 ],
 "metadata": {
  "kernelspec": {
   "display_name": "Python 3 (ipykernel)",
   "language": "python",
   "name": "python3"
  },
  "language_info": {
   "codemirror_mode": {
    "name": "ipython",
    "version": 3
   },
   "file_extension": ".py",
   "mimetype": "text/x-python",
   "name": "python",
   "nbconvert_exporter": "python",
   "pygments_lexer": "ipython3",
   "version": "3.9.0"
  }
 },
 "nbformat": 4,
 "nbformat_minor": 5
}
