{
 "cells": [
  {
   "cell_type": "code",
   "execution_count": 1,
   "id": "272e6eff-cfb1-4dca-b391-2a0c45370e8c",
   "metadata": {},
   "outputs": [],
   "source": [
    "import cv2 as cv\n",
    "import os\n",
    "import json"
   ]
  },
  {
   "cell_type": "code",
   "execution_count": 2,
   "id": "722d364c-bdf0-4ff0-8565-83b93dd474bc",
   "metadata": {},
   "outputs": [],
   "source": [
    "#create directory for image dataset\n",
    "def DatasetPath(path):\n",
    "    # get name of the diretory/folder\n",
    "    dir = os.path.dirname(path)\n",
    "    #if directory/folder name doesn't exist create directory with a name of value in path\n",
    "    if not os.path.exists(dir): os.makedirs(dir)"
   ]
  },
  {
   "cell_type": "code",
   "execution_count": 3,
   "id": "53ab493b-157b-4876-8ff2-7444a265118b",
   "metadata": {},
   "outputs": [
    {
     "name": "stdin",
     "output_type": "stream",
     "text": [
      "start :  40\n",
      "end :  44\n",
      "Name :  Trotoar\n"
     ]
    },
    {
     "name": "stdout",
     "output_type": "stream",
     "text": [
      "file exists\n",
      "{'21': 'Trotoar', '22': 'Trotoar', '23': 'Trotoar', '24': 'Trotoar', '25': 'Trotoar', '26': 'Trotoar', '27': 'Trotoar', '28': 'Trotoar', '29': 'Trotoar', '30': 'Trotoar', '31': 'Trotoar', '32': 'Trotoar', '33': 'Trotoar', '34': 'Trotoar', '35': 'Trotoar', '36': 'Trotoar', '37': 'Trotoar', '38': 'Trotoar', '39': 'Trotoar', 40: 'Trotoar'}\n",
      "file exists\n",
      "{'21': 'Trotoar', '22': 'Trotoar', '23': 'Trotoar', '24': 'Trotoar', '25': 'Trotoar', '26': 'Trotoar', '27': 'Trotoar', '28': 'Trotoar', '29': 'Trotoar', '30': 'Trotoar', '31': 'Trotoar', '32': 'Trotoar', '33': 'Trotoar', '34': 'Trotoar', '35': 'Trotoar', '36': 'Trotoar', '37': 'Trotoar', '38': 'Trotoar', '39': 'Trotoar', '40': 'Trotoar', 41: 'Trotoar'}\n",
      "file exists\n",
      "{'21': 'Trotoar', '22': 'Trotoar', '23': 'Trotoar', '24': 'Trotoar', '25': 'Trotoar', '26': 'Trotoar', '27': 'Trotoar', '28': 'Trotoar', '29': 'Trotoar', '30': 'Trotoar', '31': 'Trotoar', '32': 'Trotoar', '33': 'Trotoar', '34': 'Trotoar', '35': 'Trotoar', '36': 'Trotoar', '37': 'Trotoar', '38': 'Trotoar', '39': 'Trotoar', '40': 'Trotoar', '41': 'Trotoar', 42: 'Trotoar'}\n",
      "file exists\n",
      "{'21': 'Trotoar', '22': 'Trotoar', '23': 'Trotoar', '24': 'Trotoar', '25': 'Trotoar', '26': 'Trotoar', '27': 'Trotoar', '28': 'Trotoar', '29': 'Trotoar', '30': 'Trotoar', '31': 'Trotoar', '32': 'Trotoar', '33': 'Trotoar', '34': 'Trotoar', '35': 'Trotoar', '36': 'Trotoar', '37': 'Trotoar', '38': 'Trotoar', '39': 'Trotoar', '40': 'Trotoar', '41': 'Trotoar', '42': 'Trotoar', 43: 'Trotoar'}\n",
      "file exists\n",
      "{'21': 'Trotoar', '22': 'Trotoar', '23': 'Trotoar', '24': 'Trotoar', '25': 'Trotoar', '26': 'Trotoar', '27': 'Trotoar', '28': 'Trotoar', '29': 'Trotoar', '30': 'Trotoar', '31': 'Trotoar', '32': 'Trotoar', '33': 'Trotoar', '34': 'Trotoar', '35': 'Trotoar', '36': 'Trotoar', '37': 'Trotoar', '38': 'Trotoar', '39': 'Trotoar', '40': 'Trotoar', '41': 'Trotoar', '42': 'Trotoar', '43': 'Trotoar', 44: 'Trotoar'}\n"
     ]
    }
   ],
   "source": [
    "\n",
    "#create directory path\n",
    "DatasetPath(\"dataset/\")\n",
    "#get id of the image\n",
    "start  = int(input(\"start : \"))\n",
    "end  = int(input(\"end : \"))\n",
    "#get name of the image\n",
    "name = input(\"Name : \")\n",
    "number = 1\n",
    "#checking if json file are exist\n",
    "for data_id in range(start,end+1):\n",
    "    #use cv.VideoCapture to get the video frame\n",
    "    cam = cv.VideoCapture('Video/20062022/dataset'+str(number)+'.mp4')\n",
    "    number += 1\n",
    "    #count variable to count how many image/frame and to label each image/frame\n",
    "    count = 0\n",
    "    while True:\n",
    "        #isTrue is used to check if the frame was sucessfully read in or not and var frame to capture each frame on the video\n",
    "        isTrue, frame = cam.read()\n",
    "        # Convert each frame to grayscale\n",
    "        # labeling each frame and save the image in dataset directory\n",
    "        cv.imwrite(\"dataset/\"+name+\".\"+ str(data_id) +\".\"+ str(count) + \".jpg\", frame)\n",
    "        cv.imshow('Unfitured video', frame)\n",
    "        count += 1\n",
    "        #giving a condition where on the frame of N and key event or D break the loop\n",
    "        if cv.waitKey(20) == ord('q') or count>50:\n",
    "            break\n",
    "\n",
    "\n",
    "    #release the recording device\n",
    "    cam.release()\n",
    "    #destroy the window\n",
    "    cv.destroyAllWindows()"
   ]
  },
  {
   "cell_type": "code",
   "execution_count": null,
   "id": "ceb7eb2f-486c-462e-aa99-e216668b92d2",
   "metadata": {},
   "outputs": [],
   "source": []
  }
 ],
 "metadata": {
  "kernelspec": {
   "display_name": "Python 3 (ipykernel)",
   "language": "python",
   "name": "python3"
  },
  "language_info": {
   "codemirror_mode": {
    "name": "ipython",
    "version": 3
   },
   "file_extension": ".py",
   "mimetype": "text/x-python",
   "name": "python",
   "nbconvert_exporter": "python",
   "pygments_lexer": "ipython3",
   "version": "3.9.0"
  }
 },
 "nbformat": 4,
 "nbformat_minor": 5
}
