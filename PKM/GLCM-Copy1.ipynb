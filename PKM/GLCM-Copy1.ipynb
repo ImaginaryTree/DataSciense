{
 "cells": [
  {
   "cell_type": "code",
   "execution_count": 14,
   "id": "64f7db8e",
   "metadata": {
    "tags": []
   },
   "outputs": [
    {
     "name": "stdout",
     "output_type": "stream",
     "text": [
      "DataFrame 1 is written to Excel File successfully.\n",
      "DataFrame 2 is written to Excel File successfully.\n",
      "DataFrame 3 is written to Excel File successfully.\n",
      "DataFrame 4 is written to Excel File successfully.\n",
      "DataFrame 5 is written to Excel File successfully.\n",
      "DataFrame 6 is written to Excel File successfully.\n",
      "DataFrame 7 is written to Excel File successfully.\n",
      "DataFrame 8 is written to Excel File successfully.\n",
      "DataFrame 9 is written to Excel File successfully.\n"
     ]
    },
    {
     "ename": "FileNotFoundError",
     "evalue": "[WinError 3] The system cannot find the path specified: 'dataset/aspal/aspal_10'",
     "output_type": "error",
     "traceback": [
      "\u001b[1;31m---------------------------------------------------------------------------\u001b[0m",
      "\u001b[1;31mFileNotFoundError\u001b[0m                         Traceback (most recent call last)",
      "\u001b[1;32m~\\AppData\\Local\\Temp/ipykernel_11632/3197697852.py\u001b[0m in \u001b[0;36m<module>\u001b[1;34m\u001b[0m\n\u001b[0;32m      9\u001b[0m \u001b[1;32mfor\u001b[0m \u001b[0mnumber\u001b[0m \u001b[1;32min\u001b[0m \u001b[0mrange\u001b[0m\u001b[1;33m(\u001b[0m\u001b[1;36m1\u001b[0m\u001b[1;33m,\u001b[0m\u001b[0mlen_jenis_trotar\u001b[0m\u001b[1;33m+\u001b[0m\u001b[1;36m1\u001b[0m\u001b[1;33m)\u001b[0m\u001b[1;33m:\u001b[0m\u001b[1;33m\u001b[0m\u001b[1;33m\u001b[0m\u001b[0m\n\u001b[0;32m     10\u001b[0m     \u001b[0mdata\u001b[0m \u001b[1;33m=\u001b[0m \u001b[1;33m[\u001b[0m\u001b[1;33m]\u001b[0m\u001b[1;33m\u001b[0m\u001b[1;33m\u001b[0m\u001b[0m\n\u001b[1;32m---> 11\u001b[1;33m     \u001b[1;32mfor\u001b[0m \u001b[0mfile\u001b[0m \u001b[1;32min\u001b[0m \u001b[0mos\u001b[0m\u001b[1;33m.\u001b[0m\u001b[0mlistdir\u001b[0m\u001b[1;33m(\u001b[0m\u001b[1;34m'dataset/aspal/aspal_'\u001b[0m\u001b[1;33m+\u001b[0m\u001b[0mstr\u001b[0m\u001b[1;33m(\u001b[0m\u001b[0mnumber\u001b[0m\u001b[1;33m)\u001b[0m\u001b[1;33m)\u001b[0m\u001b[1;33m:\u001b[0m\u001b[1;33m\u001b[0m\u001b[1;33m\u001b[0m\u001b[0m\n\u001b[0m\u001b[0;32m     12\u001b[0m         \u001b[1;31m# ubah path nya sesuai lokasi datasetnya jika disimpan dibeda tempat\u001b[0m\u001b[1;33m\u001b[0m\u001b[1;33m\u001b[0m\u001b[1;33m\u001b[0m\u001b[0m\n\u001b[0;32m     13\u001b[0m         \u001b[1;31m# path = dataset/trotoar/trotoar_01/('+str(x)+').jpg\u001b[0m\u001b[1;33m\u001b[0m\u001b[1;33m\u001b[0m\u001b[1;33m\u001b[0m\u001b[0m\n",
      "\u001b[1;31mFileNotFoundError\u001b[0m: [WinError 3] The system cannot find the path specified: 'dataset/aspal/aspal_10'"
     ]
    }
   ],
   "source": [
    "import skimage.io\n",
    "import skimage.feature\n",
    "from statistics import mean\n",
    "import os\n",
    "import pandas as pd\n",
    "\n",
    "len_jenis_trotar = len(os.listdir('dataset/aspal'))\n",
    "count = 1\n",
    "for number in range(1,len_jenis_trotar+1):\n",
    "    data = []\n",
    "    for file in os.listdir('dataset/aspal/aspal_'+str(number)):\n",
    "        # ubah path nya sesuai lokasi datasetnya jika disimpan dibeda tempat\n",
    "        # path = dataset/trotoar/trotoar_01/('+str(x)+').jpg\n",
    "        im = skimage.io.imread('dataset/aspal/aspal_'+str(number)+'/'+str(file),as_gray=True)\n",
    "        count +=1\n",
    "        im = skimage.img_as_ubyte(im)\n",
    "        g = skimage.feature.greycomatrix(im, [1], [0], 256, symmetric=True, normed=True)\n",
    "        a1 = skimage.feature.greycoprops(g, 'contrast')[0][0]\n",
    "        a2 = skimage.feature.greycoprops(g, 'energy')[0][0]\n",
    "        a3 = skimage.feature.greycoprops(g, 'homogeneity')[0][0]\n",
    "        a4 = skimage.feature.greycoprops(g, 'correlation')[0][0]\n",
    "        a5 = skimage.feature.greycoprops(g, 'dissimilarity')[0][0]\n",
    "        a6 = skimage.feature.greycoprops(g, 'ASM')[0][0]\n",
    "        a7 = skimage.measure.shannon_entropy(g)\n",
    "        temp = [a1, a2, a3, a4, a5, a6, a7];\n",
    "        data.append(temp)\n",
    "    dataframe = pd.DataFrame(data, columns = ['contrast', 'energy', 'homogeneity', 'correlation', 'dissimilarity', 'ASM', 'Entrophy'])\n",
    "    dataframe.index +=1\n",
    "    mean = [[\n",
    "            dataframe['contrast'].mean(),dataframe['energy'].mean(),dataframe['homogeneity'].mean(),\n",
    "            dataframe['correlation'].mean(),dataframe['dissimilarity'].mean(),dataframe['ASM'].mean(),\n",
    "            dataframe['Entrophy'].mean()\n",
    "           ]]\n",
    "    dfmean = pd.DataFrame(mean, columns = ['contrast', 'energy', 'homogeneity', 'correlation', 'dissimilarity', 'ASM', 'Entrophy'])\n",
    "    join = [dataframe,dfmean]\n",
    "    completed_df = pd.concat(join)\n",
    "    completed_df.rename(index={0:'Mean'}, inplace=True)\n",
    "    datatoexcel = pd.ExcelWriter('excel/aspal{0}.xlsx'.format(number))\n",
    "    completed_df.to_excel(datatoexcel)\n",
    "    datatoexcel.save()\n",
    "    print(\"DataFrame {0} is written to Excel File successfully.\".format(number))\n",
    "    completed_df"
   ]
  },
  {
   "cell_type": "markdown",
   "id": "1cc906c7-b2c1-4849-a38f-e4e52f72a02c",
   "metadata": {},
   "source": [
    "# menampilkan info detail tentang data yang ada di dataframe"
   ]
  },
  {
   "cell_type": "code",
   "execution_count": 15,
   "id": "ccba6135-fc0e-408f-8fdd-3bee95d87f4b",
   "metadata": {},
   "outputs": [
    {
     "name": "stdout",
     "output_type": "stream",
     "text": [
      "         contrast     energy  homogeneity  correlation  dissimilarity  \\\n",
      "count   51.000000  51.000000    51.000000    51.000000      51.000000   \n",
      "mean   443.916703   0.016020     0.096064     0.711826      14.478739   \n",
      "std     75.058436   0.001938     0.016031     0.015744       1.551989   \n",
      "min    231.839511   0.014163     0.080614     0.690566      10.027173   \n",
      "25%    389.404824   0.014491     0.083073     0.699357      13.383661   \n",
      "50%    472.673600   0.014852     0.087401     0.709493      15.199941   \n",
      "75%    502.493676   0.017339     0.105364     0.715301      15.734712   \n",
      "max    534.686826   0.021859     0.142283     0.760816      16.207405   \n",
      "\n",
      "             ASM   Entrophy  \n",
      "count  51.000000  51.000000  \n",
      "mean    0.000260   2.721451  \n",
      "std     0.000066   0.174131  \n",
      "min     0.000201   2.164333  \n",
      "25%     0.000210   2.584370  \n",
      "50%     0.000221   2.807505  \n",
      "75%     0.000301   2.857295  \n",
      "max     0.000478   2.913691  \n"
     ]
    }
   ],
   "source": [
    "print(dataframe.describe())\n",
    "#tujuan dari code bagian ini untuk mendapatkan mean/rata-rata dari setiap fitur"
   ]
  },
  {
   "cell_type": "markdown",
   "id": "976c853d-6260-47a1-86bc-d2d1a8145fa0",
   "metadata": {},
   "source": [
    "# convert dataframe ke excel\n",
    "\n",
    "file excel akan dibuat di folder yang sama dengan script ini"
   ]
  },
  {
   "cell_type": "markdown",
   "id": "8e71a96b-d0ed-425b-946f-1c59cd03d0a2",
   "metadata": {},
   "source": [
    "Convert Dataframe to Excel"
   ]
  },
  {
   "cell_type": "code",
   "execution_count": 7,
   "id": "f8e5ba92-b4f4-4ba1-b4aa-fa015dd5df57",
   "metadata": {},
   "outputs": [
    {
     "name": "stdout",
     "output_type": "stream",
     "text": [
      "52\n",
      "(307).jpg\n",
      "(308).jpg\n",
      "(309).jpg\n",
      "(310).jpg\n",
      "(311).jpg\n",
      "(312).jpg\n",
      "(313).jpg\n",
      "(314).jpg\n",
      "(315).jpg\n",
      "(316).jpg\n",
      "(317).jpg\n",
      "(318).jpg\n",
      "(319).jpg\n",
      "(320).jpg\n",
      "(321).jpg\n",
      "(322).jpg\n",
      "(323).jpg\n",
      "(324).jpg\n",
      "(325).jpg\n",
      "(326).jpg\n",
      "(327).jpg\n",
      "(328).jpg\n",
      "(329).jpg\n",
      "(330).jpg\n",
      "(331).jpg\n",
      "(332).jpg\n",
      "(333).jpg\n",
      "(334).jpg\n",
      "(335).jpg\n",
      "(336).jpg\n",
      "(337).jpg\n",
      "(338).jpg\n",
      "(339).jpg\n",
      "(340).jpg\n",
      "(341).jpg\n",
      "(342).jpg\n",
      "(343).jpg\n",
      "(344).jpg\n",
      "(345).jpg\n",
      "(346).jpg\n",
      "(347).jpg\n",
      "(348).jpg\n",
      "(349).jpg\n",
      "(350).jpg\n",
      "(351).jpg\n",
      "(352).jpg\n",
      "(353).jpg\n",
      "(354).jpg\n",
      "(355).jpg\n",
      "(356).jpg\n",
      "(357).jpg\n",
      ".ipynb_checkpoints\n"
     ]
    }
   ],
   "source": [
    "print(len(os.listdir('dataset/trotoar/trotoar_7')))\n",
    "for i in os.listdir('dataset/trotoar/trotoar_7'):\n",
    "    print(i)"
   ]
  },
  {
   "cell_type": "code",
   "execution_count": 7,
   "id": "445fbcd8-68c2-474e-b1d1-3d303d6a1a0f",
   "metadata": {},
   "outputs": [
    {
     "data": {
      "text/plain": [
       "['(307).jpg',\n",
       " '(308).jpg',\n",
       " '(309).jpg',\n",
       " '(310).jpg',\n",
       " '(311).jpg',\n",
       " '(312).jpg',\n",
       " '(313).jpg',\n",
       " '(314).jpg',\n",
       " '(315).jpg',\n",
       " '(316).jpg',\n",
       " '(317).jpg',\n",
       " '(318).jpg',\n",
       " '(319).jpg',\n",
       " '(320).jpg',\n",
       " '(321).jpg',\n",
       " '(322).jpg',\n",
       " '(323).jpg',\n",
       " '(324).jpg',\n",
       " '(325).jpg',\n",
       " '(326).jpg',\n",
       " '(327).jpg',\n",
       " '(328).jpg',\n",
       " '(329).jpg',\n",
       " '(330).jpg',\n",
       " '(331).jpg',\n",
       " '(332).jpg',\n",
       " '(333).jpg',\n",
       " '(334).jpg',\n",
       " '(335).jpg',\n",
       " '(336).jpg',\n",
       " '(337).jpg',\n",
       " '(338).jpg',\n",
       " '(339).jpg',\n",
       " '(340).jpg',\n",
       " '(341).jpg',\n",
       " '(342).jpg',\n",
       " '(343).jpg',\n",
       " '(344).jpg',\n",
       " '(345).jpg',\n",
       " '(346).jpg',\n",
       " '(347).jpg',\n",
       " '(348).jpg',\n",
       " '(349).jpg',\n",
       " '(350).jpg',\n",
       " '(351).jpg',\n",
       " '(352).jpg',\n",
       " '(353).jpg',\n",
       " '(354).jpg',\n",
       " '(355).jpg',\n",
       " '(356).jpg',\n",
       " '(357).jpg',\n",
       " '.ipynb_checkpoints']"
      ]
     },
     "execution_count": 7,
     "metadata": {},
     "output_type": "execute_result"
    }
   ],
   "source": [
    "os.listdir('dataset/trotoar/trotoar_'+str(number))"
   ]
  },
  {
   "cell_type": "code",
   "execution_count": null,
   "id": "3ace72c6-8e41-4ae5-9b74-3122ae9d97c5",
   "metadata": {},
   "outputs": [],
   "source": []
  }
 ],
 "metadata": {
  "kernelspec": {
   "display_name": "Python 3 (ipykernel)",
   "language": "python",
   "name": "python3"
  },
  "language_info": {
   "codemirror_mode": {
    "name": "ipython",
    "version": 3
   },
   "file_extension": ".py",
   "mimetype": "text/x-python",
   "name": "python",
   "nbconvert_exporter": "python",
   "pygments_lexer": "ipython3",
   "version": "3.9.0"
  }
 },
 "nbformat": 4,
 "nbformat_minor": 5
}
