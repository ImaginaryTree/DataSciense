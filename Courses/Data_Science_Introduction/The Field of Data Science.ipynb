{
 "cells": [
  {
   "cell_type": "markdown",
   "metadata": {},
   "source": [
    "# Data Science And Business Buzzwords"
   ]
  },
  {
   "cell_type": "markdown",
   "metadata": {},
   "source": [
    "Apa yang begitu penting dengan data di masa sekarang, Mempertahankan bisnis yang sehat berjalan seiring dengan bekerja dengan data, meskipun memahaminya atau tidak hal tersebut tidak dapat disangkal bahwa data adalah dasar dari setiap perusahaan yang sukses, dan pengusaha bisnis yang memimpin jalannya perusahaan sadar bahwa melihat lebih dalam pada data adalah apa yang akan membuat mereka menjulang di atas persaingan.\n",
    "\n",
    "Dimulai dari tim data atau tim big data mereka ingin menyelesaikan masalah bisnis maka pertama tim ini akan melakukan sejumlah besar pekerjaan pada data yang tersedia, lalu berdasarkan itu tim bisnis inteligence memberikan dashboard business insight, setelah dashboard siap tim data science akan melakukan business analytics atau alat untuk menganalisis data untuk mengembangkan suatu model yang dapat memprediksi event kedepan yang akan datang.\n",
    "\n",
    "jika bukan seorang ahli data, mungkin akan berpikir nama tim tersebut hanya nama yang dibuat secara random, namun nama tersebut adalah kata kunci yang sebenarnya dalam bidang ilmu Data science, dan tidak hanya itu banya juga frasa yang serupa lainnya seperti dibawah ini.\n",
    "\n",
    "                        Business Dictionary\n",
    "- Data\n",
    "- Data Team\n",
    "- Big Data Team\n",
    "- Business inteligence\n",
    "- Data Science\n",
    "- Business analytics\n",
    "- Data Analytics\n",
    "\n",
    "Tidak Heran jika membingungkan tapi jangan khawatir hal tersebut dapat dengan mudah dipahami, berikut akan dijelaskan mengapa bidang Data Science bisa menjadi sangat rumit."
   ]
  },
  {
   "cell_type": "markdown",
   "metadata": {},
   "source": [
    "#### confusion : The Constant Evolution of the data science industry"
   ]
  },
  {
   "cell_type": "markdown",
   "metadata": {},
   "source": [
    "istilah ini sangat menyulitkan situasi dikarenakan meningkatnya popularitas data science disebabkan oleh inovasi dalam data colection, teknologi dan pengelolahan masalah data worldwide, misalnya seseorang yang memiliki gelar ahli statistika 25 tahun yang lalu akan bertanggung jawab dalam mengumpulkan dan membersihkan set data dan menerapkan berbagai metode statistik pada data, setelah beberapa tahun dengan pertumbuhan data dan peningkatan radikal teknologi, ahli statistika sekarang diminta untuk mengekstrak pola dari data, sehingga muncul istilah baru yang disebut *Data Mining*. Beberapa tahun kedepan lagi dengan munculnya mode matematika dan statistika yang baru, sekarang bisa meningkatkan prediksi yang lebih akurat, dan lagi istilah lain telah menemukan jalan ke glosarium bisnis yang sudah meningkat yaitu predictive analitic, dengan hal tersebut ahli statistika tersebut lebih memenuhi syarat untuk menjadi bagian dari tim analisis prediktif departemen statistika atau biasa disebut sebagai Data Science."
   ]
  },
  {
   "cell_type": "markdown",
   "metadata": {},
   "source": [
    "## Difference of data analitics and data analysis"
   ]
  },
  {
   "cell_type": "markdown",
   "metadata": {},
   "source": [
    "Dikarenakan memiliki makna yang sama orang - orang terkadang berpikir bahwa keduanya memiliki makna yang sama, secara teknis hal tersebut tidak benar, ada perbedaan yang jelas diantara keduanya. dan alasan yang sering digunakan bukan lain adalah kurangnya pemahaman yang transparan dari keduanya."
   ]
  },
  {
   "cell_type": "markdown",
   "metadata": {},
   "source": [
    "#### Data Analysis"
   ]
  },
  {
   "cell_type": "markdown",
   "metadata": {},
   "source": [
    "Analisis dilakukan terhadapa hal-hal yang terjadi di masa lalu, seperti menggunakan analisis untuk menjelaskan bagaimana suatu kejadian bisa terjadi atau bagaimana ada kenaikan dalam mata uang dolar beberapa bulan lalu. jadi pada intinya analisis menjelaskan bagaimana atau mengapa suatu hal bisa terjadi."
   ]
  },
  {
   "cell_type": "markdown",
   "metadata": {},
   "source": [
    "#### Data Analitics"
   ]
  },
  {
   "cell_type": "markdown",
   "metadata": {},
   "source": [
    "Analitics sendiri merupakan kebalikan dari analisis dimana analitics lebih menjelaskan kejadian yang akan terjadi di masa yang akan mendatang. Analitics pada dasarnya bagian komponen yang diperoleh dalam analisis dan dalam melakukan ini, Data analitics akan mencari pola dalam mengeksplorisasi apa yang dapat dilakukan dengan mereka di masa depan. disini Analitics di bagi menjadi dua bagian yaitu.\n",
    "\n",
    "- analitik kualitatif yang menggunakan intuisi dan pengalaman bersama dengan analisis untuk merencanakan langkah bisnis berikutnya \n",
    "  \n",
    "- analitik kuantitatif dimana menerapkan rumus dan algoritma ke angka yang telah dikumpukan dari analisis tersebut"
   ]
  },
  {
   "cell_type": "markdown",
   "metadata": {},
   "source": [
    "## Business analytics, data analytics, and Data Science"
   ]
  },
  {
   "cell_type": "markdown",
   "metadata": {},
   "source": [
    "                     365_DataScience_Diagram_page-0032.jpg\n",
    "![title](img/365_DataScience_Diagram_page-0032.jpg)"
   ]
  },
  {
   "cell_type": "markdown",
   "metadata": {},
   "source": [
    "Seperti yang telah diketahui semuanya tidak terlalu jelas, tetapi dengan menggunakan diagram berikut ini akan membantu mengurai kekacauan dari kegiatan setiap bidangnya dalam ilmu data science dan bisnis.\n",
    "\n",
    "\n",
    "Dimulai dari daftar istilah yang mencakup beberapa aspek di bidang bisnis :"
   ]
  },
  {
   "cell_type": "markdown",
   "metadata": {},
   "source": [
    "                   365_DataScience_Diagram_page-0001.jpg\n",
    "![title](img/365_DataScience_Diagram_page-0001.jpg)"
   ]
  },
  {
   "cell_type": "markdown",
   "metadata": {},
   "source": [
    "                    \n",
    "Sekarang coba pikirkan hal berikut berapa banyak istilah ini yang melibatkan bekerja dengan data ? (365_DataScience_Diagram_page-0001.jpg)\n",
    "\n",
    "                    \n",
    "jika digambarkan persegi panjang lain di tempat kegiatan yang sangat penting untuk memiliki data tersedia disana, yang mana jika ada akan bertumpang tindih dengan persegi panjang bisnis (365_DataScience_Diagram_page-0003.jpg)."
   ]
  },
  {
   "cell_type": "markdown",
   "metadata": {},
   "source": [
    "                    365_DataScience_Diagram_page-0003.jpg\n",
    "![title](img/365_DataScience_Diagram_page-0003.jpg)"
   ]
  },
  {
   "cell_type": "markdown",
   "metadata": {},
   "source": [
    "jawabannya adalah beberapa. hal ini dikarenakan beberapa kegiatan bisnis didorong oleh data, sementara yang lainnya bersifat subjektif atau berdasarkan pengalaman.\n",
    "\n",
    "diagram dibawah adalah pengelompkan subbidang yang didorong oleh data dan yang subjektif"
   ]
  },
  {
   "cell_type": "markdown",
   "metadata": {},
   "source": [
    "                    365_DataScience_Diagram_page-0007.jpg\n",
    "![title](img/365_DataScience_Diagram_page-0007.jpg)"
   ]
  },
  {
   "cell_type": "markdown",
   "metadata": {},
   "source": [
    "Jadi keempat subbidang tersebut dapat duduk dengan nyaman di area yang tumpang tindih dan kedua subbidang sisanya masih tetap di posisinya masing-masing karena mereka hanya dimiliki oleh bidang bisnis, ini dikarenakan studi kasus bisnis adalah pengalaman dunia nyata tentang bagaimana pebisnis dan perusahaan bisa sukses atau gagal. Sehingga tidak perlu kumpulan data untuk belajar dari kasus bisnis. Hal yang sama bisa dikatakan untuk analitik kualitatif\n",
    "\n",
    "\n",
    "\n",
    "Sekarang grafik akan diberikan garis waktu karena beberapa istilah yang merujuk pada kegiatan yang bertujuan untuk menjelaskan perilaku masa lalu, sementara yang lain merujuk pada kegiatan yang digunakan untuk memprediksi perilaku masa depan. dengan begitu dapat diketahui subbidang apa yang bersifat analisis maupun analitics"
   ]
  },
  {
   "cell_type": "markdown",
   "metadata": {},
   "source": [
    "                     365_DataScience_Diagram_page-0008.jpg\n",
    "![title](img/365_DataScience_Diagram_page-0008.jpg)"
   ]
  },
  {
   "cell_type": "markdown",
   "metadata": {},
   "source": [
    "1. Business case study : memeriksa peristiwa yang telah terjadi contoh seseorang dapat belajar dari mereka dan berusaha untuk mencegah membuat kesalahan serupa dimasa depan, sehingga dapat disimpulkan bahwa business case study adalah bagian dari analisis\n",
    "2. analitik kualitatif : menggunakan pengalaman bersama dengan analisis untuk membantu memprediksi perilaku dimasa depan, sehingga dapat disimpulkan bahwa analitik kualitatif adalah bagian dari analitics"
   ]
  },
  {
   "cell_type": "markdown",
   "metadata": {},
   "source": [
    "                        365_DataScience_Diagram_page-0012.jpg\n",
    "![title](img/365_DataScience_Diagram_page-0012.jpg)"
   ]
  },
  {
   "cell_type": "markdown",
   "metadata": {},
   "source": [
    "3. Preliminary Data Report, Reporting With Visuals, and Creating Dashboard : menyiapkan laporan dan membuat dashboard merupakan cerminan masa lalu sehingga mereka berada di posisi Analisis\n",
    "\n",
    "4. Sales Forecasting : adalah kegiatan berorientasi masa depan, yang dimana berarti sales forecasting adalah bagian dari analitics"
   ]
  },
  {
   "cell_type": "markdown",
   "metadata": {},
   "source": [
    "                        365_DataScience_Diagram_page-0016.jpg\n",
    "![title](img/365_DataScience_Diagram_page-0016.jpg)"
   ]
  },
  {
   "cell_type": "markdown",
   "metadata": {},
   "source": [
    "Selanjutnya akan ditambahkan kotak persegin panjang yang akan mewakili bidang paling cemerlang dari mereka semua yaitu Data Science. Data cience adalah bidang yang bergantung pada ketersediaan data, sementara analitik bisnis tidak sepenuhnya bergantung pada data. namun seluiruh bagian Data Science masuk kedalam analisis data, dikarena sebagiar besar dari sains data menggunakan statistik, matematika kompleks, dan alat pemrogramman."
   ]
  },
  {
   "cell_type": "markdown",
   "metadata": {},
   "source": [
    "                        365_DataScience_Diagram_page-0018.jpg\n",
    "![title](img/365_DataScience_Diagram_page-0018.jpg)"
   ]
  },
  {
   "cell_type": "markdown",
   "metadata": {},
   "source": [
    "Dan sekarang subbidang apa yang termasuk bidang dtaa science dan data analitik tapi bukan bagiang dari bidang bisnis ?. jawabannya adalah Optimization of drilling operations karena dibutuhkan untuk meningkatkan akurasi prediksi berdasarkan data yang di ekstraksi dari berbagai kegitan.\n",
    "\n",
    "yang terkahir subbindang apa yang bagian dari Data analitics tapi tidak termasuk bidang data science maupun bisnis analitics ? jawabannya adalah digital signal processing, ini digunakan untuk mempresentasikan data dalam bentuk nilai diskrit yang merupakan contoh data numerik. Oleh karena itu, analisis data dapat diterapkan ke sinyal digital untuk menghasilkan sinyal berkualitas"
   ]
  },
  {
   "cell_type": "markdown",
   "metadata": {},
   "source": [
    "                        365_DataScience_Diagram_page-0020.jpg\n",
    "![title](img/365_DataScience_Diagram_page-0020.jpg)"
   ]
  }
 ],
 "metadata": {
  "language_info": {
   "name": "python"
  },
  "orig_nbformat": 4
 },
 "nbformat": 4,
 "nbformat_minor": 2
}
