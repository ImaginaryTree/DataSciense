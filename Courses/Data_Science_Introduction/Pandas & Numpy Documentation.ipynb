{
 "cells": [
  {
   "cell_type": "markdown",
   "id": "98322471",
   "metadata": {},
   "source": [
    "# Numpy & Pandas Function"
   ]
  },
  {
   "cell_type": "markdown",
   "id": "c0196b6a",
   "metadata": {},
   "source": [
    "## 1. Numpy"
   ]
  },
  {
   "cell_type": "markdown",
   "id": "09f25372",
   "metadata": {},
   "source": [
    "NumPy adalah sebuah library untuk bahasa pemrograman Python yang digunakan untuk komputasi numerik, termasuk operasi array, linear algebra, dan transformasi Fourier. NumPy merupakan singkatan dari \"Numerical Python\" dan merupakan salah satu library terpenting dalam ekosistem Python untuk keperluan ilmiah dan teknik.\n",
    "\n",
    "Salah satu keunggulan NumPy adalah penggunaan array multidimensional yang cepat dan efisien, yang memungkinkan komputasi yang kompleks dan besar dilakukan dengan lebih mudah dan cepat dibandingkan dengan menggunakan struktur data Python bawaan. Selain itu, NumPy juga menyediakan berbagai fungsi matematika dan operasi array yang teroptimasi, seperti pengindeksan, slicing, dan transposisi.\n",
    "\n",
    "Beberapa fungsi penting dalam Numpy adalah:"
   ]
  },
  {
   "cell_type": "markdown",
   "id": "d4e71444",
   "metadata": {},
   "source": [
    "### 1.1 np.array()"
   ]
  },
  {
   "cell_type": "markdown",
   "id": "c4bd4b95",
   "metadata": {},
   "source": [
    "Fungsi ini digunakan untuk membuat array, yaitu struktur data yang terdiri dari elemen-elemen yang sama jenisnya. Contoh penggunaannya adalah sebagai berikut:"
   ]
  },
  {
   "cell_type": "code",
   "execution_count": 75,
   "id": "178b17b4",
   "metadata": {},
   "outputs": [
    {
     "name": "stdout",
     "output_type": "stream",
     "text": [
      "[list([1, 2, 3, 4, 5]) list([6, 7, 8, 9])]\n"
     ]
    },
    {
     "name": "stderr",
     "output_type": "stream",
     "text": [
      "C:\\Users\\ASUS TUF\\AppData\\Local\\Temp/ipykernel_11528/2410874345.py:3: VisibleDeprecationWarning: Creating an ndarray from ragged nested sequences (which is a list-or-tuple of lists-or-tuples-or ndarrays with different lengths or shapes) is deprecated. If you meant to do this, you must specify 'dtype=object' when creating the ndarray.\n",
      "  arr = np.array([[1, 2, 3, 4, 5],[6,7,8,9]])\n"
     ]
    }
   ],
   "source": [
    "import numpy as np\n",
    "\n",
    "arr = np.array([[1, 2, 3, 4, 5],[6,7,8,9]])\n",
    "print(arr)"
   ]
  },
  {
   "cell_type": "markdown",
   "id": "2813b60a",
   "metadata": {},
   "source": [
    "### 1.2. np.zeros()\n",
    "Fungsi ini digunakan untuk membuat array dengan elemen-elemennya bernilai 0. Contoh penggunaannya adalah sebagai berikut:"
   ]
  },
  {
   "cell_type": "code",
   "execution_count": 78,
   "id": "02eb272f",
   "metadata": {},
   "outputs": [
    {
     "name": "stdout",
     "output_type": "stream",
     "text": [
      "[[0. 0. 0. 0. 0. 0. 0. 0. 0. 0.]\n",
      " [0. 0. 0. 0. 0. 0. 0. 0. 0. 0.]\n",
      " [0. 0. 0. 0. 0. 0. 0. 0. 0. 0.]\n",
      " [0. 0. 0. 0. 0. 0. 0. 0. 0. 0.]\n",
      " [0. 0. 0. 0. 0. 0. 0. 0. 0. 0.]\n",
      " [0. 0. 0. 0. 0. 0. 0. 0. 0. 0.]\n",
      " [0. 0. 0. 0. 0. 0. 0. 0. 0. 0.]\n",
      " [0. 0. 0. 0. 0. 0. 0. 0. 0. 0.]\n",
      " [0. 0. 0. 0. 0. 0. 0. 0. 0. 0.]]\n"
     ]
    }
   ],
   "source": [
    "import numpy as np\n",
    "\n",
    "arr = np.zeros((9,10))\n",
    "print(arr)"
   ]
  },
  {
   "cell_type": "markdown",
   "id": "7a20b5b9",
   "metadata": {},
   "source": [
    "### 1.3. np.ones()\n",
    "Fungsi ini digunakan untuk membuat array dengan elemen-elemennya bernilai 1. Contoh penggunaannya adalah sebagai berikut:"
   ]
  },
  {
   "cell_type": "code",
   "execution_count": 8,
   "id": "1380071b",
   "metadata": {},
   "outputs": [
    {
     "name": "stdout",
     "output_type": "stream",
     "text": [
      "[[1. 1. 1.]\n",
      " [1. 1. 1.]]\n"
     ]
    }
   ],
   "source": [
    "import numpy as np\n",
    "\n",
    "arr = np.ones((2,3))\n",
    "print(arr)"
   ]
  },
  {
   "cell_type": "markdown",
   "id": "37933b1d",
   "metadata": {},
   "source": [
    "### 1.4. np.linspace()\n",
    "Fungsi ini digunakan untuk membuat array dengan jumlah elemen tertentu yang berjarak sama di antara dua nilai. Contoh penggunaannya adalah sebagai berikut:"
   ]
  },
  {
   "cell_type": "code",
   "execution_count": 12,
   "id": "f091e2a8",
   "metadata": {},
   "outputs": [
    {
     "name": "stdout",
     "output_type": "stream",
     "text": [
      "[0.   0.25 0.5  0.75 1.  ]\n"
     ]
    }
   ],
   "source": [
    "import numpy as np\n",
    "\n",
    "arr = np.linspace(0, 1, num=5)\n",
    "print(arr)"
   ]
  },
  {
   "cell_type": "markdown",
   "id": "a82d397a",
   "metadata": {},
   "source": [
    "### 1.5. np.random.rand()\n",
    "Fungsi ini digunakan untuk membuat array dengan elemen-elemennya terisi nilai acak dari distribusi uniform. Contoh penggunaannya adalah sebagai berikut:"
   ]
  },
  {
   "cell_type": "code",
   "execution_count": 13,
   "id": "4a8d1200",
   "metadata": {},
   "outputs": [
    {
     "name": "stdout",
     "output_type": "stream",
     "text": [
      "[[0.49220517 0.90402687 0.2858048 ]\n",
      " [0.52212113 0.53584639 0.84192857]]\n"
     ]
    }
   ],
   "source": [
    "import numpy as np\n",
    "\n",
    "arr = np.random.rand(2,3)\n",
    "print(arr)"
   ]
  },
  {
   "cell_type": "markdown",
   "id": "51f6e793",
   "metadata": {},
   "source": [
    "### 1.6. np.mean()\n",
    "Fungsi ini digunakan untuk menghitung rata-rata dari array. Contoh penggunaannya adalah sebagai berikut:"
   ]
  },
  {
   "cell_type": "code",
   "execution_count": 15,
   "id": "de56f7ce",
   "metadata": {},
   "outputs": [
    {
     "name": "stdout",
     "output_type": "stream",
     "text": [
      "3.0\n"
     ]
    }
   ],
   "source": [
    "import numpy as np\n",
    "\n",
    "arr = np.array([1, 2, 3, 4, 5])\n",
    "mean = np.mean(arr)\n",
    "print(mean)"
   ]
  },
  {
   "cell_type": "markdown",
   "id": "38666ed4",
   "metadata": {},
   "source": [
    "## 2. Pandas\n",
    "Pandas adalah library Python yang digunakan untuk analisis data. Pandas memiliki struktur data yang mudah digunakan seperti DataFrame dan Series, yang memungkinkan kita untuk memanipulasi data dengan mudah dan cepat.\n",
    "\n",
    "DataFrame adalah struktur data berbentuk tabel yang terdiri dari kolom dan baris. Setiap kolom pada DataFrame dapat memiliki tipe data yang berbeda, seperti integer, float, dan string. Sedangkan Series adalah struktur data satu dimensi yang mirip dengan array atau list.\n",
    "\n",
    "Pandas menyediakan berbagai fungsi untuk membaca, menulis, dan memanipulasi data, seperti membaca file CSV atau Excel, menggabungkan data dari beberapa sumber, menghapus baris atau kolom yang tidak diperlukan, melakukan agregasi data, dan banyak lagi. Beberapa fungsi penting dalam Pandas adalah:"
   ]
  },
  {
   "cell_type": "markdown",
   "id": "26477635",
   "metadata": {},
   "source": [
    "### 2.1. Pandas DataFrame\n",
    "Fungsi ini digunakan untuk membuat data frame, yaitu struktur data yang terdiri dari baris dan kolom. Contoh penggunaannya adalah sebagai berikut:"
   ]
  },
  {
   "cell_type": "code",
   "execution_count": 17,
   "id": "c0321203",
   "metadata": {},
   "outputs": [
    {
     "name": "stdout",
     "output_type": "stream",
     "text": [
      "     Name  Age      City\n",
      "0    John   26  New York\n",
      "1    Emma   24    London\n",
      "2     Mia   30     Paris\n",
      "3  Oliver   28    Sydney\n"
     ]
    }
   ],
   "source": [
    "import pandas as pd\n",
    "\n",
    "data = {'Name': ['John', 'Emma', 'Mia', 'Oliver'],\n",
    "        'Age': [26, 24, 30, 28],\n",
    "        'City': ['New York', 'London', 'Paris', 'Sydney']}\n",
    "\n",
    "df = pd.DataFrame(data)\n",
    "print(df)"
   ]
  },
  {
   "cell_type": "markdown",
   "id": "a045e0c8",
   "metadata": {},
   "source": [
    "### 2.2. Pandas Series\n",
    "Fungsi ini digunakan untuk membuat seri, yaitu struktur data satu dimensi yang dapat menyimpan data numerik atau teks. Contoh penggunaannya adalah sebagai berikut:"
   ]
  },
  {
   "cell_type": "code",
   "execution_count": 50,
   "id": "3011e53e",
   "metadata": {
    "scrolled": true
   },
   "outputs": [
    {
     "name": "stdout",
     "output_type": "stream",
     "text": [
      "0     [1, 2, 3, 4, 5]\n",
      "1    [6, 7, 8, 9, 10]\n",
      "dtype: object\n"
     ]
    }
   ],
   "source": [
    "import pandas as pd\n",
    "\n",
    "data = [[1, 2, 3, 4, 5],[6,7,8,9,10]]\n",
    "s = pd.Series(data)\n",
    "print(s)"
   ]
  },
  {
   "cell_type": "markdown",
   "id": "2606fe76",
   "metadata": {},
   "source": [
    "### 2.3. Reading file\n",
    "Fungsi ini digunakan untuk membaca file CSV dan mengubahnya menjadi data frame. Contoh penggunaannya adalah sebagai berikut:"
   ]
  },
  {
   "cell_type": "code",
   "execution_count": 28,
   "id": "2b48940f",
   "metadata": {},
   "outputs": [
    {
     "name": "stdout",
     "output_type": "stream",
     "text": [
      "       Unnamed: 0  carat        cut color clarity  depth  table  price     x  \\\n",
      "0               1   0.23      Ideal     E     SI2   61.5   55.0    326  3.95   \n",
      "1               2   0.21    Premium     E     SI1   59.8   61.0    326  3.89   \n",
      "2               3   0.23       Good     E     VS1   56.9   65.0    327  4.05   \n",
      "3               4   0.29    Premium     I     VS2   62.4   58.0    334  4.20   \n",
      "4               5   0.31       Good     J     SI2   63.3   58.0    335  4.34   \n",
      "...           ...    ...        ...   ...     ...    ...    ...    ...   ...   \n",
      "53935       53936   0.72      Ideal     D     SI1   60.8   57.0   2757  5.75   \n",
      "53936       53937   0.72       Good     D     SI1   63.1   55.0   2757  5.69   \n",
      "53937       53938   0.70  Very Good     D     SI1   62.8   60.0   2757  5.66   \n",
      "53938       53939   0.86    Premium     H     SI2   61.0   58.0   2757  6.15   \n",
      "53939       53940   0.75      Ideal     D     SI2   62.2   55.0   2757  5.83   \n",
      "\n",
      "          y     z  \n",
      "0      3.98  2.43  \n",
      "1      3.84  2.31  \n",
      "2      4.07  2.31  \n",
      "3      4.23  2.63  \n",
      "4      4.35  2.75  \n",
      "...     ...   ...  \n",
      "53935  5.76  3.50  \n",
      "53936  5.75  3.61  \n",
      "53937  5.68  3.56  \n",
      "53938  6.12  3.74  \n",
      "53939  5.87  3.64  \n",
      "\n",
      "[53940 rows x 11 columns]\n"
     ]
    }
   ],
   "source": [
    "import pandas as pd\n",
    "\n",
    "df = pd.read_csv('data.csv')\n",
    "print(df)"
   ]
  },
  {
   "cell_type": "markdown",
   "id": "b81f7451",
   "metadata": {},
   "source": [
    "### 2.4. concat\n",
    "Fungsi ini digunakan untuk menggabungkan dua atau lebih objek Pandas, seperti Series dan DataFrame. Ada beberapa parameter yang dapat diatur untuk menyesuaikan cara penggabungan, seperti axis, join, dan ignore_index. Contoh penggunaannya adalah sebagai berikut:"
   ]
  },
  {
   "cell_type": "code",
   "execution_count": 85,
   "id": "b01db982",
   "metadata": {},
   "outputs": [
    {
     "name": "stdout",
     "output_type": "stream",
     "text": [
      "    B   A   C   D\n",
      "0  A4  B4  C4  D4\n",
      "1  A5  B5  C5  D5\n",
      "2  A6  B6  C6  D6\n",
      "3  A7  B7  C7  D7\n",
      "    A   B   C   D\n",
      "0  A0  B0  C0  D0\n",
      "1  A1  B1  C1  D1\n",
      "2  A2  B2  C2  D2\n",
      "3  A3  B3  C3  D3\n",
      "4  B4  A4  C4  D4\n",
      "5  B5  A5  C5  D5\n",
      "6  B6  A6  C6  D6\n",
      "7  B7  A7  C7  D7\n"
     ]
    }
   ],
   "source": [
    "import pandas as pd\n",
    "\n",
    "df1 = pd.DataFrame({'A': ['A0', 'A1', 'A2', 'A3'],\n",
    "                    'B': ['B0', 'B1', 'B2', 'B3'],\n",
    "                    'C': ['C0', 'C1', 'C2', 'C3'],\n",
    "                    'D': ['D0', 'D1', 'D2', 'D3']})\n",
    "\n",
    "df2 = pd.DataFrame({'B': ['A4', 'A5', 'A6', 'A7'],\n",
    "                    'A': ['B4', 'B5', 'B6', 'B7'],\n",
    "                    'C': ['C4', 'C5', 'C6', 'C7'],\n",
    "                    'D': ['D4', 'D5', 'D6', 'D7']})\n",
    "\n",
    "print(df2)\n",
    "\n",
    "concatenated = pd.concat([df1, df2], axis=0, ignore_index=True)\n",
    "print(concatenated)"
   ]
  },
  {
   "cell_type": "markdown",
   "id": "07416ccd",
   "metadata": {},
   "source": [
    "### 2.5.Merging\n",
    "Fungsi ini digunakan untuk menggabungkan dua data frame berdasarkan kolom tertentu. Contoh penggunaannya adalah sebagai berikut:"
   ]
  },
  {
   "cell_type": "code",
   "execution_count": 67,
   "id": "fec70d2b",
   "metadata": {},
   "outputs": [
    {
     "name": "stdout",
     "output_type": "stream",
     "text": [
      "     Name  Age      City  Salary\n",
      "0    John   26  New York   80000\n",
      "1    Emma   24    London   50000\n",
      "2     Mia   30     Paris   60000\n",
      "3  Oliver   28    Sydney   70000\n"
     ]
    }
   ],
   "source": [
    "import pandas as pd\n",
    "\n",
    "data1 = {'Name': ['John', 'Emma', 'Mia', 'Oliver'],\n",
    "         'Age': [26, 24, 30, 28],\n",
    "         'City': ['New York', 'London', 'Paris', 'Sydney']}\n",
    "df1 = pd.DataFrame(data1)\n",
    "\n",
    "data2 = {'Name': ['Emma', 'Mia', 'Oliver', 'John'],\n",
    "         'Salary': [50000, 60000, 70000, 80000]}\n",
    "df2 = pd.DataFrame(data2)\n",
    "\n",
    "merged_df = pd.merge(df1, df2, on='Name')\n",
    "print(merged_df)"
   ]
  },
  {
   "cell_type": "markdown",
   "id": "32a3aa64",
   "metadata": {},
   "source": [
    "### 2.6. statistik descriptive\n",
    "df.describe() adalah salah satu fungsi pada Pandas yang digunakan untuk memberikan ringkasan statistik deskriptif dari DataFrame.\n",
    "\n",
    "Fungsi ini akan menghasilkan statistik seperti jumlah data, rata-rata, standar deviasi, nilai minimum dan maksimum, serta kuartil dari setiap kolom pada DataFrame.\n",
    "Berikut adalah contoh sederhana penggunaan df.describe() pada sebuah DataFrame:"
   ]
  },
  {
   "cell_type": "code",
   "execution_count": 32,
   "id": "ee004196",
   "metadata": {},
   "outputs": [
    {
     "name": "stdout",
     "output_type": "stream",
     "text": [
      "              A         B\n",
      "count  5.000000  5.000000\n",
      "mean   3.000000  4.300000\n",
      "std    1.581139  1.739253\n",
      "min    1.000000  2.100000\n",
      "25%    2.000000  3.200000\n",
      "50%    3.000000  4.300000\n",
      "75%    4.000000  5.400000\n",
      "max    5.000000  6.500000\n"
     ]
    }
   ],
   "source": [
    "import pandas as pd\n",
    "\n",
    "# membuat DataFrame\n",
    "data = pd.DataFrame({\n",
    "    'A': [1, 2, 3, 4, 5],\n",
    "    'B': [2.1, 3.2, 4.3, 5.4, 6.5],\n",
    "    'C': ['a', 'b', 'c', 'd', 'e']\n",
    "})\n",
    "\n",
    "# menampilkan ringkasan statistik deskriptif\n",
    "print(data.describe())"
   ]
  },
  {
   "cell_type": "markdown",
   "id": "01c8ebf8",
   "metadata": {},
   "source": [
    "### 2.7. df.head() & df.tail()\n",
    "\n",
    "pd.head() dan pd.tail() adalah dua fungsi pada Pandas yang digunakan untuk menampilkan sejumlah baris teratas atau terbawah dari sebuah DataFrame. Fungsi ini berguna untuk melihat sekilas isi data pada DataFrame.\n",
    "\n",
    "pd.head() digunakan untuk menampilkan sejumlah baris teratas dari sebuah DataFrame, sedangkan pd.tail() digunakan untuk menampilkan sejumlah baris terbawah dari sebuah DataFrame.\n",
    "\n",
    "Berikut adalah contoh sederhana penggunaan pd.head() dan pd.tail() pada sebuah DataFrame:"
   ]
  },
  {
   "cell_type": "code",
   "execution_count": 88,
   "id": "de21bc38",
   "metadata": {},
   "outputs": [
    {
     "name": "stdout",
     "output_type": "stream",
     "text": [
      "   A    B  C\n",
      "0  1  2.1  a\n",
      "1  2  3.2  b\n",
      "2  3  4.3  c\n",
      "\n",
      "\n",
      "   A    B  C\n",
      "1  2  3.2  b\n",
      "2  3  4.3  c\n",
      "3  4  5.4  d\n",
      "4  5  6.5  e\n"
     ]
    }
   ],
   "source": [
    "import pandas as pd\n",
    "\n",
    "# membuat DataFrame\n",
    "data = pd.DataFrame({\n",
    "    'A': [1, 2, 3, 4, 5],\n",
    "    'B': [2.1, 3.2, 4.3, 5.4, 6.5],\n",
    "    'C': ['a', 'b', 'c', 'd', 'e']\n",
    "})\n",
    "\n",
    "# menampilkan 3 baris teratas dari DataFrame\n",
    "print(data.head(3))\n",
    "\n",
    "print(\"\\n\")\n",
    "# menampilkan 2 baris terbawah dari DataFrame\n",
    "print(data.tail(4))"
   ]
  },
  {
   "cell_type": "markdown",
   "id": "d8e9e50d",
   "metadata": {},
   "source": [
    "### 2.8. Pandas Indexing\n",
    "\n",
    "df.loc adalah salah satu metode yang tersedia pada Pandas untuk memilih baris dan kolom pada sebuah DataFrame dengan menggunakan label atau nama dari indeks baris dan kolom. Metode ini sangat berguna dalam melakukan indexing, slicing, atau memilih sebagian data pada DataFrame.\n",
    "\n",
    "Format umum penggunaan df.loc adalah df.loc[row_indexer, column_indexer], dimana row_indexer adalah label atau nama indeks baris yang ingin dipilih dan column_indexer adalah label atau nama indeks kolom yang ingin dipilih.\n",
    "\n",
    "Berikut adalah contoh sederhana penggunaan df.loc pada sebuah DataFrame:"
   ]
  },
  {
   "cell_type": "code",
   "execution_count": 91,
   "id": "259ced63",
   "metadata": {},
   "outputs": [
    {
     "name": "stdout",
     "output_type": "stream",
     "text": [
      "A      2\n",
      "B    3.2\n",
      "C      b\n",
      "Name: 1, dtype: object\n",
      "\n",
      "\n",
      "2    4.3\n",
      "3    5.4\n",
      "4    6.5\n",
      "Name: B, dtype: float64\n",
      "\n",
      "\n",
      "   A  C\n",
      "0  1  a\n",
      "1  2  b\n",
      "2  3  c\n",
      "3  4  d\n",
      "4  5  e\n"
     ]
    }
   ],
   "source": [
    "import pandas as pd\n",
    "\n",
    "# membuat DataFrame\n",
    "data = pd.DataFrame({\n",
    "    'A': [1, 2, 3, 4, 5],\n",
    "    'B': [2.1, 3.2, 4.3, 5.4, 6.5],\n",
    "    'C': ['a', 'b', 'c', 'd', 'e']\n",
    "})\n",
    "\n",
    "# memilih baris ke-2 dan kolom 'B'\n",
    "print(data.loc[1, :])\n",
    "print(\"\\n\")\n",
    "\n",
    "# memilih baris ke-3 hingga ke-5 dan semua kolom\n",
    "print(data.loc[2:4, \"B\"])\n",
    "print(\"\\n\")\n",
    "\n",
    "# memilih semua baris dan kolom 'A' dan 'C'\n",
    "print(data.loc[:, ['A', 'C']])"
   ]
  },
  {
   "cell_type": "markdown",
   "id": "87eae9c7",
   "metadata": {},
   "source": [
    "### 2.9. Reshaping Data"
   ]
  },
  {
   "cell_type": "markdown",
   "id": "f8addf97",
   "metadata": {},
   "source": [
    "Reshaping data pada Pandas adalah proses mengubah tampilan data pada DataFrame dari bentuk yang ada menjadi bentuk yang lain. Reshaping data ini berguna untuk mengubah struktur data sehingga lebih mudah dipahami dan dianalisis.\n",
    "\n",
    "Pada Pandas, terdapat beberapa metode yang dapat digunakan untuk melakukan reshaping data, di antaranya adalah melt(), pivot(), stack(), unstack(), dan transpose().\n",
    "\n",
    "1. **melt()** digunakan untuk mengubah format data dari wide menjadi long, yaitu mengubah kolom menjadi baris.\n",
    "\n",
    "2. **pivot()** digunakan untuk mengubah format data dari long menjadi wide, yaitu mengubah baris menjadi kolom.\n",
    "\n",
    "3. **stack()** digunakan untuk mengubah level kolom menjadi level indeks baris pada DataFrame.\n",
    "\n",
    "4. **unstack()** digunakan untuk mengubah level indeks baris menjadi level kolom pada DataFrame.\n",
    "\n",
    "5. **transpose()** digunakan untuk mengubah baris menjadi kolom dan sebaliknya.\n",
    "\n",
    "Berikut adalah contoh penggunaan beberapa metode reshaping data pada Pandas:"
   ]
  },
  {
   "cell_type": "code",
   "execution_count": 73,
   "id": "a268aeea",
   "metadata": {},
   "outputs": [
    {
     "name": "stdout",
     "output_type": "stream",
     "text": [
      "   id  nama  matematika  fisika  biologi\n",
      "0   1  Andi          90      80       70\n",
      "1   2  Budi          85      75       65\n",
      "2   3  Caca          70      60       50\n",
      "\n",
      "   id  nama mata_pelajaran  nilai\n",
      "0   1  Andi     matematika     90\n",
      "1   2  Budi     matematika     85\n",
      "2   3  Caca     matematika     70\n",
      "3   1  Andi         fisika     80\n",
      "4   2  Budi         fisika     75\n",
      "5   3  Caca         fisika     60\n",
      "6   1  Andi        biologi     70\n",
      "7   2  Budi        biologi     65\n",
      "8   3  Caca        biologi     50\n",
      "\n",
      "\n",
      "mata_pelajaran  biologi  fisika  matematika\n",
      "id nama                                    \n",
      "1  Andi              70      80          90\n",
      "2  Budi              65      75          85\n",
      "3  Caca              50      60          70\n",
      "\n",
      "\n",
      "id  nama  mata_pelajaran\n",
      "1   Andi  biologi           70\n",
      "          fisika            80\n",
      "          matematika        90\n",
      "2   Budi  biologi           65\n",
      "          fisika            75\n",
      "          matematika        85\n",
      "3   Caca  biologi           50\n",
      "          fisika            60\n",
      "          matematika        70\n",
      "dtype: int64\n",
      "\n",
      "\n",
      "mata_pelajaran  biologi  fisika  matematika\n",
      "id nama                                    \n",
      "1  Andi              70      80          90\n",
      "2  Budi              65      75          85\n",
      "3  Caca              50      60          70\n",
      "\n",
      "\n",
      "               0     1     2\n",
      "id             1     2     3\n",
      "nama        Andi  Budi  Caca\n",
      "matematika    90    85    70\n",
      "fisika        80    75    60\n",
      "biologi       70    65    50\n"
     ]
    }
   ],
   "source": [
    "import pandas as pd\n",
    "\n",
    "# membuat DataFrame\n",
    "data = pd.DataFrame({\n",
    "    'id': [1, 2, 3],\n",
    "    'nama': ['Andi', 'Budi', 'Caca'],\n",
    "    'matematika': [90, 85, 70],\n",
    "    'fisika': [80, 75, 60],\n",
    "    'biologi': [70, 65, 50]\n",
    "})\n",
    "print(data, end=\"\\n\\n\")\n",
    "\n",
    "# mengubah format data dari wide menjadi long dengan melt()\n",
    "melted_data = pd.melt(data, id_vars=['id', 'nama'], var_name='mata_pelajaran', value_name='nilai')\n",
    "print(melted_data)\n",
    "print(\"\\n\")\n",
    "\n",
    "# mengubah format data dari long menjadi wide dengan pivot()\n",
    "pivoted_data = melted_data.pivot(index=['id', 'nama'], columns='mata_pelajaran', values='nilai')\n",
    "print(pivoted_data)\n",
    "print(\"\\n\")\n",
    "\n",
    "# mengubah level kolom menjadi level indeks baris dengan stack()\n",
    "stacked_data = pivoted_data.stack()\n",
    "print(stacked_data)\n",
    "print(\"\\n\")\n",
    "\n",
    "# mengubah level indeks baris menjadi level kolom dengan unstack()\n",
    "unstacked_data = stacked_data.unstack()\n",
    "print(unstacked_data)\n",
    "print(\"\\n\")\n",
    "\n",
    "# mengubah baris menjadi kolom dan sebaliknya dengan transpose()\n",
    "transposed_data = data.transpose()\n",
    "print(transposed_data)"
   ]
  },
  {
   "cell_type": "markdown",
   "id": "9db5fe5e",
   "metadata": {},
   "source": [
    "### 2.10. Aggregation\n",
    "\n",
    "Aggregation pada Pandas adalah proses menggabungkan beberapa nilai dalam DataFrame menjadi satu nilai tunggal dengan menggunakan suatu fungsi atau operasi matematika. Aggregation dapat diterapkan pada satu kolom maupun beberapa kolom dalam DataFrame.\n",
    "\n",
    "Pada Pandas, terdapat beberapa fungsi yang dapat digunakan untuk melakukan aggregation, di antaranya adalah:\n",
    "\n",
    "1. **sum():** Menghitung total nilai dari kolom atau baris dalam DataFrame.\n",
    "2. **mean():** Menghitung rata-rata nilai dari kolom atau baris dalam DataFrame.\n",
    "3. **median():** Menghitung median nilai dari kolom atau baris dalam DataFrame.\n",
    "4. **min():** Menghitung nilai minimum dari kolom atau baris dalam DataFrame.\n",
    "5. **max():** Menghitung nilai maksimum dari kolom atau baris dalam DataFrame.\n",
    "6. **count():** Menghitung jumlah data yang tidak null dalam kolom atau baris dalam DataFrame.\n",
    "7. **std():** Menghitung standar deviasi dari kolom atau baris dalam DataFrame.\n",
    "8. **var():** Menghitung variansi dari kolom atau baris dalam DataFrame.\n",
    "\n",
    "Berikut adalah contoh penggunaan beberapa fungsi aggregation pada Pandas:"
   ]
  },
  {
   "cell_type": "code",
   "execution_count": 45,
   "id": "702f2593",
   "metadata": {},
   "outputs": [
    {
     "name": "stdout",
     "output_type": "stream",
     "text": [
      "80.0\n",
      "\n",
      "70\n",
      "\n",
      "id            5\n",
      "nama          5\n",
      "matematika    5\n",
      "fisika        5\n",
      "biologi       5\n",
      "dtype: int64\n",
      "\n",
      "id             3.0\n",
      "matematika    80.0\n",
      "fisika        70.0\n",
      "biologi       60.0\n",
      "dtype: float64\n",
      "\n",
      "      matematika  fisika\n",
      "nama                    \n",
      "Andi        90.0      80\n",
      "Budi        85.0      75\n",
      "Caca        70.0      60\n",
      "Dedi        80.0      70\n",
      "Euis        75.0      65\n",
      "\n"
     ]
    },
    {
     "name": "stderr",
     "output_type": "stream",
     "text": [
      "C:\\Users\\ASUS TUF\\AppData\\Local\\Temp/ipykernel_11528/1071814191.py:25: FutureWarning: Dropping of nuisance columns in DataFrame reductions (with 'numeric_only=None') is deprecated; in a future version this will raise TypeError.  Select only valid columns before calling the reduction.\n",
      "  mean_data = data.mean()\n"
     ]
    }
   ],
   "source": [
    "import pandas as pd\n",
    "\n",
    "# membuat DataFrame\n",
    "data = pd.DataFrame({\n",
    "    'id': [1, 2, 3, 4, 5],\n",
    "    'nama': ['Andi', 'Budi', 'Caca', 'Dedi', 'Euis'],\n",
    "    'matematika': [90, 85, 70, 80, 75],\n",
    "    'fisika': [80, 75, 60, 70, 65],\n",
    "    'biologi': [70, 65, 50, 60, 55]\n",
    "})\n",
    "\n",
    "# menghitung rata-rata nilai matematika\n",
    "mean_matematika = data['matematika'].mean()\n",
    "print(mean_matematika, end=\"\\n\\n\")\n",
    "\n",
    "# menghitung nilai maksimum biologi\n",
    "max_biologi = data['biologi'].max()\n",
    "print(max_biologi, end=\"\\n\\n\")\n",
    "\n",
    "# menghitung jumlah data tidak null pada setiap kolom\n",
    "count_data = data.count()\n",
    "print(count_data, end=\"\\n\\n\")\n",
    "\n",
    "# menghitung rata-rata nilai setiap kolom\n",
    "mean_data = data.mean()\n",
    "print(mean_data, end=\"\\n\\n\")\n",
    "\n",
    "# menghitung nilai agregat dengan group by pada kolom nama\n",
    "aggregated_data = data.groupby('nama').agg({'matematika': 'mean', 'fisika': 'max'})\n",
    "print(aggregated_data, end=\"\\n\\n\")"
   ]
  },
  {
   "cell_type": "markdown",
   "id": "75fdc5bf",
   "metadata": {},
   "source": [
    "### 2.11. grouby"
   ]
  },
  {
   "cell_type": "markdown",
   "id": "98619ce3",
   "metadata": {},
   "source": [
    "Pandas groupby() adalah fungsi yang digunakan untuk mengelompokkan data dalam DataFrame berdasarkan satu atau beberapa kolom, kemudian melakukan operasi agregat pada kolom-kolom tertentu dalam setiap kelompok data tersebut. Fungsi groupby() menghasilkan sebuah objek DataFrameGroupBy, yang nantinya dapat dilakukan berbagai operasi agregasi seperti sum(), mean(), count(), min(), max(), median(), dan sebagainya.\n",
    "\n",
    "Contoh penggunaan groupby():"
   ]
  },
  {
   "cell_type": "code",
   "execution_count": 94,
   "id": "fb561172",
   "metadata": {},
   "outputs": [
    {
     "name": "stdout",
     "output_type": "stream",
     "text": [
      "<pandas.core.groupby.generic.DataFrameGroupBy object at 0x0000027F827B77C0>\n",
      "          nilai\n",
      "kelas          \n",
      "A      3.535534\n",
      "B      5.000000\n"
     ]
    }
   ],
   "source": [
    "import pandas as pd\n",
    "\n",
    "# membuat DataFrame\n",
    "data = pd.DataFrame({\n",
    "    'kelas': ['A', 'A', 'B', 'B', 'B'],\n",
    "    'nama': ['Andi', 'Budi', 'Caca', 'Deni', 'Eka'],\n",
    "    'nilai': [80, 85, 90, 95, 85]\n",
    "})\n",
    "\n",
    "# mengelompokkan data berdasarkan kelas\n",
    "data_grouped = data.groupby('kelas')\n",
    "print(data_grouped)\n",
    "\n",
    "# menghitung rata-rata nilai masing-masing kelas\n",
    "data_mean = data_grouped.std()\n",
    "print(data_mean)"
   ]
  },
  {
   "cell_type": "code",
   "execution_count": null,
   "id": "f0f12d99",
   "metadata": {},
   "outputs": [],
   "source": []
  }
 ],
 "metadata": {
  "kernelspec": {
   "display_name": "Python 3 (ipykernel)",
   "language": "python",
   "name": "python3"
  },
  "language_info": {
   "codemirror_mode": {
    "name": "ipython",
    "version": 3
   },
   "file_extension": ".py",
   "mimetype": "text/x-python",
   "name": "python",
   "nbconvert_exporter": "python",
   "pygments_lexer": "ipython3",
   "version": "3.9.0"
  }
 },
 "nbformat": 4,
 "nbformat_minor": 5
}
